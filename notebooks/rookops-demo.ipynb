{
 "cells": [
  {
   "cell_type": "code",
   "execution_count": 11,
   "metadata": {},
   "outputs": [],
   "source": [
    "from rooki import operators as rookops\n",
    "\n",
    "tree = rookops.Average(\n",
    "    rookops.Subset(\n",
    "        rookops.Subset(\n",
    "            rookops.Input(\n",
    "                'tas', ['cmip5.output1.MOHC.HadGEM2-ES.rcp85.mon.atmos.Amon.r1i1p1.latest.tas'],\n",
    "            ),\n",
    "            time=\"2085-01-01/2120-12-30\",\n",
    "        ),\n",
    "        time=\"2090-01-01/2100-12-30\",\n",
    "    ),\n",
    "    axes='time',\n",
    ")"
   ]
  },
  {
   "cell_type": "code",
   "execution_count": 12,
   "metadata": {},
   "outputs": [
    {
     "data": {
      "text/plain": [
       "'{\"inputs\": {\"tas\": [\"cmip5.output1.MOHC.HadGEM2-ES.rcp85.mon.atmos.Amon.r1i1p1.latest.tas\"]}, \"steps\": {\"subset_tas_1\": {\"run\": \"subset\", \"in\": {\"data_ref\": \"inputs/tas\", \"time\": \"2085-01-01/2120-12-30\"}}, \"subset_tas_2\": {\"run\": \"subset\", \"in\": {\"data_ref\": \"subset_tas_1/output\", \"time\": \"2090-01-01/2100-12-30\"}}, \"average_tas_1\": {\"run\": \"average\", \"in\": {\"data_ref\": \"subset_tas_2/output\", \"axes\": \"time\"}}}, \"outputs\": {\"output\": \"average_tas_1/output\"}, \"doc\": \"tree workflow\"}'"
      ]
     },
     "execution_count": 12,
     "metadata": {},
     "output_type": "execute_result"
    }
   ],
   "source": [
    "tree._serialise()"
   ]
  },
  {
   "cell_type": "code",
   "execution_count": 13,
   "metadata": {},
   "outputs": [
    {
     "data": {
      "text/plain": [
       "orchestrateResponse(\n",
       "    output='https://bovec.dkrz.de/download/outputs/roocswps/f30c03e8-7e3b-11ea-ac7f-109836a7cf3a/output.nc'\n",
       ")"
      ]
     },
     "execution_count": 13,
     "metadata": {},
     "output_type": "execute_result"
    }
   ],
   "source": [
    "out = tree.orchestrate()\n",
    "out.get()"
   ]
  },
  {
   "cell_type": "code",
   "execution_count": null,
   "metadata": {},
   "outputs": [],
   "source": []
  }
 ],
 "metadata": {
  "kernelspec": {
   "display_name": "Python 3",
   "language": "python",
   "name": "python3"
  },
  "language_info": {
   "codemirror_mode": {
    "name": "ipython",
    "version": 3
   },
   "file_extension": ".py",
   "mimetype": "text/x-python",
   "name": "python",
   "nbconvert_exporter": "python",
   "pygments_lexer": "ipython3",
   "version": "3.7.4"
  }
 },
 "nbformat": 4,
 "nbformat_minor": 2
}
