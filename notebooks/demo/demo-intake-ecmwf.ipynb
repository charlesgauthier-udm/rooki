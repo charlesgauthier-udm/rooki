{
 "cells": [
  {
   "cell_type": "markdown",
   "id": "aabded80-c33f-49d6-a6d2-34b8e0851fd7",
   "metadata": {},
   "source": [
    "# Demo intake catalog for ECMWF\n",
    "\n",
    "https://github.com/roocs/roocs-utils/issues/70"
   ]
  },
  {
   "cell_type": "markdown",
   "id": "1f97080d-dc2d-4250-be96-e5d70347956a",
   "metadata": {},
   "source": [
    "## Download demo data"
   ]
  },
  {
   "cell_type": "code",
   "execution_count": null,
   "id": "0237ed8e-c8d4-4f9e-97c7-2210d4cc185b",
   "metadata": {},
   "outputs": [],
   "source": [
    "url = 'https://github.com/roocs/roocs-utils/files/6419650/catalog.zip'"
   ]
  },
  {
   "cell_type": "markdown",
   "id": "8ee9308e-17c8-46b4-bd41-aba8d738e0da",
   "metadata": {},
   "source": [
    "## Open intake catalog"
   ]
  },
  {
   "cell_type": "code",
   "execution_count": null,
   "id": "ee03cfc4-1b9e-431b-97ab-8e9bdb7eff25",
   "metadata": {},
   "outputs": [],
   "source": [
    "import intake"
   ]
  },
  {
   "cell_type": "code",
   "execution_count": null,
   "id": "7584f7ed-4906-439b-a0e4-d2c521519aed",
   "metadata": {},
   "outputs": [],
   "source": [
    "cat = intake.open_catalog(\"/Users/pingu/Downloads/catalog/c3s.yml\")"
   ]
  },
  {
   "cell_type": "code",
   "execution_count": null,
   "id": "14ecb24c-ce60-4072-aae9-07e9c764d813",
   "metadata": {},
   "outputs": [],
   "source": [
    "list(cat)"
   ]
  },
  {
   "cell_type": "code",
   "execution_count": null,
   "id": "c0137b94-6641-41ef-a5d9-1281e80ac07e",
   "metadata": {},
   "outputs": [],
   "source": [
    "print(cat['c3s-cmip6'])"
   ]
  },
  {
   "cell_type": "code",
   "execution_count": null,
   "id": "a351a88b-0dd0-4e4c-b51a-7d4ceba94893",
   "metadata": {},
   "outputs": [],
   "source": [
    "df = cat['c3s-cmip6'].read()"
   ]
  },
  {
   "cell_type": "code",
   "execution_count": null,
   "id": "01fc885a-8cff-4251-88cc-feccb55d9a82",
   "metadata": {},
   "outputs": [],
   "source": [
    "df.info(memory_usage='deep')"
   ]
  },
  {
   "cell_type": "code",
   "execution_count": null,
   "id": "2e1451d0-c2b8-436d-90df-7ae8737ecc28",
   "metadata": {},
   "outputs": [],
   "source": [
    "df.head()"
   ]
  },
  {
   "cell_type": "markdown",
   "id": "b3f0cc2c-3bbd-4458-86de-af39653232a9",
   "metadata": {},
   "source": [
    "## Show unique values"
   ]
  },
  {
   "cell_type": "code",
   "execution_count": null,
   "id": "c757bc26-6d92-458b-83aa-838353fb3084",
   "metadata": {},
   "outputs": [],
   "source": [
    "df.nunique()"
   ]
  },
  {
   "cell_type": "markdown",
   "id": "b3f6e038-9c5d-4eaf-864f-7a4d55033c0e",
   "metadata": {},
   "source": [
    "## Plot file size in MB"
   ]
  },
  {
   "cell_type": "code",
   "execution_count": null,
   "id": "d803fa5b-bf53-4622-9e03-aa9f7666db20",
   "metadata": {},
   "outputs": [],
   "source": [
    "import hvplot.pandas  # noqa"
   ]
  },
  {
   "cell_type": "code",
   "execution_count": null,
   "id": "9f88624b-7de1-44cf-9565-66f67e5d6121",
   "metadata": {},
   "outputs": [],
   "source": [
    "df['size_mb'] = df['size'].apply(lambda s: s/1024**2)"
   ]
  },
  {
   "cell_type": "code",
   "execution_count": null,
   "id": "9c79695a-3bae-479c-952e-f69b951487be",
   "metadata": {},
   "outputs": [],
   "source": [
    "df.hvplot.hist(y='size_mb')"
   ]
  },
  {
   "cell_type": "markdown",
   "id": "858e50f2-9fc8-4afa-b95e-361160706417",
   "metadata": {},
   "source": [
    "## Aggregate by dataset ID"
   ]
  },
  {
   "cell_type": "code",
   "execution_count": null,
   "id": "90a79eea-4567-4e8e-a08a-221d3be0e0ee",
   "metadata": {},
   "outputs": [],
   "source": [
    "import os\n",
    "# TODO: how to make `num_files` better?\n",
    "df['num_files'] = df['path']\n",
    "df['files'] = df['path']\n",
    "aggregation_functions = {\n",
    "    'size': 'sum',\n",
    "    'path': lambda x: os.path.dirname(x.min()),\n",
    "    'num_files': 'count',\n",
    "    'files': lambda x: [os.path.basename(p) for p in list(x)],\n",
    "    'mip_era': 'first',\n",
    "    'activity_id': 'first',\n",
    "    'institution_id': 'first',\n",
    "    'source_id': 'first',\n",
    "    'experiment_id': 'first',\n",
    "    'member_id': 'first',\n",
    "    'table_id': 'first',\n",
    "    'variable_id': 'first',\n",
    "    'grid_label': 'first',\n",
    "    'version': 'first',\n",
    "    'start_time': 'min', \n",
    "    'end_time': 'max',\n",
    "    'bbox': 'first',\n",
    "    'level': 'first'}\n",
    "df_ds = df.groupby('ds_id', as_index=False).aggregate(aggregation_functions)\n",
    "df_ds"
   ]
  },
  {
   "cell_type": "markdown",
   "id": "a05c29f8-4b71-422c-8352-9b0f4d15d3a2",
   "metadata": {},
   "source": [
    "## Plot dataset by size"
   ]
  },
  {
   "cell_type": "code",
   "execution_count": null,
   "id": "491cbb7d-fdf2-4455-9930-932eca9bbbc2",
   "metadata": {},
   "outputs": [],
   "source": [
    "df_ds['size_mb'] = df_ds['size'].apply(lambda s: s/1024**2)"
   ]
  },
  {
   "cell_type": "code",
   "execution_count": null,
   "id": "92ccee84-2f8b-4e8a-8102-b05d4f641dbb",
   "metadata": {},
   "outputs": [],
   "source": [
    "df_ds.hvplot.hist(y='size_mb')"
   ]
  }
 ],
 "metadata": {
  "kernelspec": {
   "display_name": "Python 3",
   "language": "python",
   "name": "python3"
  },
  "language_info": {
   "codemirror_mode": {
    "name": "ipython",
    "version": 3
   },
   "file_extension": ".py",
   "mimetype": "text/x-python",
   "name": "python",
   "nbconvert_exporter": "python",
   "pygments_lexer": "ipython3",
   "version": "3.9.2"
  }
 },
 "nbformat": 4,
 "nbformat_minor": 5
}
