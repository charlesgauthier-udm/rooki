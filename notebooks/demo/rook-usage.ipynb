{
 "cells": [
  {
   "cell_type": "code",
   "execution_count": null,
   "id": "83870d10-e24f-4fa8-ab76-ee81daa47192",
   "metadata": {},
   "outputs": [],
   "source": [
    "import os\n",
    "#os.environ['ROOK_URL'] = 'http://rook.dkrz.de/wps'\n",
    "os.environ['ROOK_URL'] = 'http://rook3.cloud.dkrz.de/wps'"
   ]
  },
  {
   "cell_type": "code",
   "execution_count": null,
   "id": "d832111e-f2c6-4e66-862d-c6dfe1770509",
   "metadata": {},
   "outputs": [],
   "source": [
    "from rooki import rooki"
   ]
  },
  {
   "cell_type": "markdown",
   "id": "340d4697-3d87-46b8-bc59-f9eb8593fd46",
   "metadata": {},
   "source": [
    "## run usage "
   ]
  },
  {
   "cell_type": "code",
   "execution_count": null,
   "id": "fc6e99b4-4ea4-4d8f-9d3a-ccacb9030d2a",
   "metadata": {},
   "outputs": [],
   "source": [
    "resp = rooki.usage(time='2021-03-01/2021-05-30')"
   ]
  },
  {
   "cell_type": "markdown",
   "id": "4a18da34-8e19-46c0-89ac-8d9653834dac",
   "metadata": {},
   "source": [
    "## evaluate pywps stats"
   ]
  },
  {
   "cell_type": "code",
   "execution_count": null,
   "id": "adb69589-7fa4-4640-9d25-fc01eb409bad",
   "metadata": {},
   "outputs": [],
   "source": [
    "pywps_usage = resp.response.processOutputs[0].reference"
   ]
  },
  {
   "cell_type": "code",
   "execution_count": null,
   "id": "725d076b-bcb7-4ea5-9cb3-d7ef69a334ff",
   "metadata": {},
   "outputs": [],
   "source": [
    "import pandas as pd"
   ]
  },
  {
   "cell_type": "code",
   "execution_count": null,
   "id": "26cd5bbc-5b67-4271-b0e6-a448c18ee202",
   "metadata": {},
   "outputs": [],
   "source": [
    "df = pd.read_csv(pywps_usage, parse_dates=[4, 5])\n",
    "df"
   ]
  },
  {
   "cell_type": "code",
   "execution_count": null,
   "id": "ce9795f0-c0a0-4c79-ad46-a33e1de1a802",
   "metadata": {},
   "outputs": [],
   "source": [
    "df.operation.value_counts()"
   ]
  },
  {
   "cell_type": "code",
   "execution_count": null,
   "id": "961936ad-8b12-4d1a-b3cf-911abe44bb09",
   "metadata": {},
   "outputs": [],
   "source": [
    "df.loc[df['operation']=='execute'].loc[df['status']==4].identifier.value_counts()"
   ]
  },
  {
   "cell_type": "code",
   "execution_count": null,
   "id": "86c2f49b-45f8-476f-846d-1b0e2c35cee1",
   "metadata": {},
   "outputs": [],
   "source": [
    "df.loc[df['operation']=='execute'].loc[df['status']==5].identifier.value_counts()"
   ]
  },
  {
   "cell_type": "code",
   "execution_count": null,
   "id": "76722414-36f9-4744-9ca6-4447eeb775a7",
   "metadata": {},
   "outputs": [],
   "source": [
    "df.loc[df['operation']=='execute'].loc[df['identifier']=='orchestrate'].status.value_counts()"
   ]
  },
  {
   "cell_type": "code",
   "execution_count": null,
   "id": "ae17e980-6b33-4fb0-aebf-eaaeb569314a",
   "metadata": {},
   "outputs": [],
   "source": [
    "import hvplot.pandas  # noqa\n"
   ]
  },
  {
   "cell_type": "markdown",
   "id": "a0f7fcab-5676-4494-a9cb-700b5236e313",
   "metadata": {},
   "source": [
    "## duration"
   ]
  },
  {
   "cell_type": "code",
   "execution_count": null,
   "id": "88b024f3-cd90-4044-af8d-23808bf05028",
   "metadata": {},
   "outputs": [],
   "source": [
    "df['duration'] = df['time_end'] - df['time_start']\n",
    "df.duration = df.duration.dt.seconds"
   ]
  },
  {
   "cell_type": "code",
   "execution_count": null,
   "id": "676d5bb9-68e2-49f7-b454-467866bc0d00",
   "metadata": {},
   "outputs": [],
   "source": [
    "df.loc[df['operation']=='execute'].loc[df['identifier']=='orchestrate'].hvplot.hist(y='duration')"
   ]
  },
  {
   "cell_type": "markdown",
   "id": "c5a3fafe-b4c1-45e1-b67a-822df2d48a26",
   "metadata": {},
   "source": [
    "## jobs over days"
   ]
  },
  {
   "cell_type": "code",
   "execution_count": null,
   "id": "5917883c-bf6e-42d5-a9f3-cb8cd9dc31c5",
   "metadata": {},
   "outputs": [],
   "source": [
    "days = (df.time_start.max() - df.time_start.min()).days\n",
    "days"
   ]
  },
  {
   "cell_type": "code",
   "execution_count": null,
   "id": "ac539d6c-c2b0-45b3-9e79-6a2b874e0350",
   "metadata": {},
   "outputs": [],
   "source": [
    "df.loc[df['operation']=='execute'].loc[df['identifier']=='orchestrate'].hvplot.hist(y='time_start', bins=days)"
   ]
  },
  {
   "cell_type": "markdown",
   "id": "20d87fc7-cebc-4b9b-8534-406fb52c9821",
   "metadata": {},
   "source": [
    "## jobs over week days"
   ]
  },
  {
   "cell_type": "code",
   "execution_count": null,
   "id": "1f38780d-8ddf-4864-83c0-584fb7688b97",
   "metadata": {},
   "outputs": [],
   "source": [
    "df['dayofweek'] = df['time_start'].dt.dayofweek\n",
    "df"
   ]
  },
  {
   "cell_type": "code",
   "execution_count": null,
   "id": "adbe5cc0-ebea-4c00-8d82-e4962dab9501",
   "metadata": {},
   "outputs": [],
   "source": [
    "df.loc[df['operation']=='execute'].loc[df['identifier']=='orchestrate'].hvplot.hist(y='dayofweek', bins=7)"
   ]
  },
  {
   "cell_type": "markdown",
   "id": "da99225b-6a52-48fd-9af3-a3d5e3718a92",
   "metadata": {},
   "source": [
    "## jobs over day time"
   ]
  },
  {
   "cell_type": "code",
   "execution_count": null,
   "id": "eadced2e-7c34-4cac-8542-412b00f86841",
   "metadata": {},
   "outputs": [],
   "source": [
    "df['hour'] = df['time_start'].dt.hour\n",
    "df"
   ]
  },
  {
   "cell_type": "code",
   "execution_count": null,
   "id": "9acad703-62e6-49de-9a88-f4ef3b48e4ea",
   "metadata": {},
   "outputs": [],
   "source": [
    "df.loc[df['operation']=='execute'].loc[df['identifier']=='orchestrate'].hvplot.hist(y='hour', bins=24)"
   ]
  },
  {
   "cell_type": "markdown",
   "id": "3bca146a-3d30-47a7-a64f-c77452618642",
   "metadata": {},
   "source": [
    "## concurrent jobs"
   ]
  },
  {
   "cell_type": "code",
   "execution_count": null,
   "id": "ec94e4f4-1295-4f03-ab87-9f2d1db74ce8",
   "metadata": {},
   "outputs": [],
   "source": [
    "# https://stackoverflow.com/questions/57804145/combining-rows-with-overlapping-time-periods-in-a-pandas-dataframe\n",
    "edf = df.loc[df['operation']=='execute'].loc[df['identifier']=='orchestrate'].loc[df['status']==4]\n",
    "startdf = pd.DataFrame({'time':edf['time_start'], 'what':1})\n",
    "enddf = pd.DataFrame({'time':edf['time_end'], 'what':-1})\n",
    "mergdf = pd.concat([startdf, enddf]).sort_values('time')\n",
    "mergdf['running'] = mergdf['what'].cumsum()\n",
    "mergdf"
   ]
  },
  {
   "cell_type": "code",
   "execution_count": null,
   "id": "e68a8955-e0e2-4110-b651-3ec5fefa2172",
   "metadata": {},
   "outputs": [],
   "source": [
    "max_running = mergdf.running.max()\n",
    "max_running"
   ]
  },
  {
   "cell_type": "code",
   "execution_count": null,
   "id": "590e581b-b869-4c75-af19-6950d42385bc",
   "metadata": {},
   "outputs": [],
   "source": [
    "mergdf.loc[mergdf['running']>0].hvplot.hist(y='running', bins=max_running)"
   ]
  },
  {
   "cell_type": "markdown",
   "id": "958f24a1-f7fb-49b1-bd88-0cd5b824b8f9",
   "metadata": {},
   "source": [
    "## concurrent jobs over days"
   ]
  },
  {
   "cell_type": "code",
   "execution_count": null,
   "id": "5312a09b-2a6f-4d6b-9b6c-e483cc1173cb",
   "metadata": {},
   "outputs": [],
   "source": [
    "mergdf.loc[mergdf['running']>0].hvplot.scatter(y='running', x='time')"
   ]
  },
  {
   "cell_type": "code",
   "execution_count": null,
   "id": "462b30da-ff49-4a31-a70e-800d7703a043",
   "metadata": {},
   "outputs": [],
   "source": [
    "tmpdf = mergdf.groupby(pd.Grouper(key=\"time\", freq=\"1D\")).max()\n",
    "tmpdf"
   ]
  },
  {
   "cell_type": "code",
   "execution_count": null,
   "id": "eafa6138-9202-4ece-bc13-f878ac5f8878",
   "metadata": {},
   "outputs": [],
   "source": [
    "tmp2df = pd.DataFrame()\n",
    "tmp2df['time'] = tmpdf.index.values\n",
    "tmp2df['running'] = tmpdf.running.values\n",
    "tmp2df"
   ]
  },
  {
   "cell_type": "code",
   "execution_count": null,
   "id": "a9763705-681c-4f90-9601-dff22ac22a22",
   "metadata": {},
   "outputs": [],
   "source": [
    "tmp2df.hvplot.bar(x='time', y='running')"
   ]
  },
  {
   "cell_type": "markdown",
   "id": "359b3545-d5c6-47cc-9431-2ff991551bbb",
   "metadata": {},
   "source": [
    "## Errors per day"
   ]
  },
  {
   "cell_type": "code",
   "execution_count": null,
   "id": "8f25d4e7-d8b7-452d-919c-7ccc858ed4ac",
   "metadata": {},
   "outputs": [],
   "source": [
    "df_errors = df.loc[df['operation']=='execute'].loc[df['identifier']=='orchestrate'].loc[df['status']==5]\n",
    "df_errors"
   ]
  },
  {
   "cell_type": "code",
   "execution_count": null,
   "id": "a68c71a0-d5d1-4493-a252-41e9de821a10",
   "metadata": {},
   "outputs": [],
   "source": [
    "df_errors.hvplot.hist(y='time_start')"
   ]
  },
  {
   "cell_type": "markdown",
   "id": "b132a455-7ab1-40a0-a517-c019bfabaede",
   "metadata": {},
   "source": [
    "## Error messages"
   ]
  },
  {
   "cell_type": "code",
   "execution_count": null,
   "id": "66ee1b4d-464b-4456-a3ac-bc6cf4b96820",
   "metadata": {},
   "outputs": [],
   "source": [
    "df_errors.message.value_counts()"
   ]
  },
  {
   "cell_type": "markdown",
   "id": "6803c1c5-091e-44f7-99ec-86d4a44ff0f5",
   "metadata": {},
   "source": [
    "## Downloads"
   ]
  },
  {
   "cell_type": "code",
   "execution_count": null,
   "id": "4410c2eb-2b23-4986-95b0-c08c680c9085",
   "metadata": {},
   "outputs": [],
   "source": [
    "downloads = resp.response.processOutputs[1].reference"
   ]
  },
  {
   "cell_type": "code",
   "execution_count": null,
   "id": "68c579c0-2697-4131-90ba-e55e104499ba",
   "metadata": {},
   "outputs": [],
   "source": [
    "df_downloads = pd.read_csv(downloads, parse_dates=[2])\n",
    "df_downloads"
   ]
  },
  {
   "cell_type": "markdown",
   "id": "ae5ee8d7-e1ec-490b-9b1f-93d839da88d5",
   "metadata": {},
   "source": [
    "### Downloads size"
   ]
  },
  {
   "cell_type": "code",
   "execution_count": null,
   "id": "dec46445-88c0-4663-8107-5bd352834348",
   "metadata": {},
   "outputs": [],
   "source": [
    "df_downloads['size'].sum() / 1024 ** 3"
   ]
  },
  {
   "cell_type": "code",
   "execution_count": null,
   "id": "60631108-addb-4a51-a920-d690d1591b7a",
   "metadata": {},
   "outputs": [],
   "source": [
    "def size_mb(size):\n",
    "    return size / 1024 ** 2"
   ]
  },
  {
   "cell_type": "code",
   "execution_count": null,
   "id": "6b5ec0b1-0d5d-4f04-a3a6-102ed9f0bb45",
   "metadata": {},
   "outputs": [],
   "source": [
    "df_downloads['size_mb'] = df_downloads['size'].apply(size_mb)\n",
    "df_downloads"
   ]
  },
  {
   "cell_type": "code",
   "execution_count": null,
   "id": "50baabf8-4b02-487f-9230-79c2d4091496",
   "metadata": {},
   "outputs": [],
   "source": [
    "df_downloads.hvplot.hist(y='size_mb')"
   ]
  },
  {
   "cell_type": "markdown",
   "id": "c5a88f29-150a-401a-8352-2c98a5fcd926",
   "metadata": {},
   "source": [
    "### Download size per day"
   ]
  },
  {
   "cell_type": "code",
   "execution_count": null,
   "id": "3d8be35b-0958-45dd-8d62-e813b6df2de7",
   "metadata": {},
   "outputs": [],
   "source": [
    "downloads_per_day = df_downloads.groupby(df_downloads.datetime.dt.date)[\"size_mb\"].sum()\n",
    "downloads_per_day"
   ]
  },
  {
   "cell_type": "code",
   "execution_count": null,
   "id": "d41436a9-2e4f-44cd-a24e-3b4a9c588f05",
   "metadata": {},
   "outputs": [],
   "source": [
    "downloads_per_day.hvplot.bar()"
   ]
  },
  {
   "cell_type": "markdown",
   "id": "ae3a8490-9c6f-404d-be0d-3ce1b3fca792",
   "metadata": {},
   "source": [
    "### Download requests per day"
   ]
  },
  {
   "cell_type": "code",
   "execution_count": null,
   "id": "8d55ccef-f51b-4ca2-b7b4-6c1011bfbc9b",
   "metadata": {},
   "outputs": [],
   "source": [
    "days = (df_downloads.datetime.max() - df_downloads.datetime.min()).days\n",
    "days"
   ]
  },
  {
   "cell_type": "code",
   "execution_count": null,
   "id": "c8df63e3-1dc0-4406-af11-33376bf5be6f",
   "metadata": {
    "tags": []
   },
   "outputs": [],
   "source": [
    "df_downloads.hvplot.hist(y='datetime', bins=days)"
   ]
  },
  {
   "cell_type": "markdown",
   "id": "05c88c8b-05f5-41e0-8110-9a04810d1c72",
   "metadata": {},
   "source": [
    "### Downloads by IP address"
   ]
  },
  {
   "cell_type": "code",
   "execution_count": null,
   "id": "46513730-f6c6-4aa4-937c-ab78e8e2757e",
   "metadata": {},
   "outputs": [],
   "source": [
    "df_downloads.remote_host_ip.value_counts()"
   ]
  },
  {
   "cell_type": "markdown",
   "id": "d1837426-c3ec-4ddc-9132-be7da03deb34",
   "metadata": {},
   "source": [
    "### Downloads GeoIP\n",
    "https://pypi.org/project/geoip2nation/"
   ]
  },
  {
   "cell_type": "code",
   "execution_count": null,
   "id": "0a710753-9445-481f-bcd5-456ca9a2bb70",
   "metadata": {},
   "outputs": [],
   "source": [
    "from geoip import xgeoip\n",
    "r = xgeoip.GeoIp()\n",
    "r.load_memory()\n",
    "\n",
    "def lookup_ip(ip):\n",
    "    return r.resolve(ip).country"
   ]
  },
  {
   "cell_type": "code",
   "execution_count": null,
   "id": "b016a320-344e-41cf-b79b-7eb947054161",
   "metadata": {},
   "outputs": [],
   "source": [
    "df_downloads['geoip'] = df_downloads.remote_host_ip.apply(lookup_ip)\n",
    "df_downloads"
   ]
  },
  {
   "cell_type": "code",
   "execution_count": null,
   "id": "37cf67f8-ce17-4ade-9b51-f074794f1c9c",
   "metadata": {},
   "outputs": [],
   "source": [
    "df_downloads.geoip.value_counts().hvplot.bar()"
   ]
  },
  {
   "cell_type": "markdown",
   "id": "a8228e3b-60e9-4e94-aee9-1669cd5551f9",
   "metadata": {},
   "source": [
    "## GeoHealthCheck\n",
    "https://geohealthcheck.cloud.dkrz.de"
   ]
  },
  {
   "cell_type": "code",
   "execution_count": null,
   "id": "6b925133-33a6-465c-bb13-116eb395a541",
   "metadata": {},
   "outputs": [],
   "source": [
    "import requests\n",
    "from io import StringIO\n",
    "ghc_url = \"https://geohealthcheck.cloud.dkrz.de/resource/45/history/csv\"\n",
    "req = requests.get(ghc_url, verify=False)\n",
    "df_ghc = pd.read_csv(StringIO(req.text), parse_dates=['checked_datetime'])\n",
    "df_ghc"
   ]
  },
  {
   "cell_type": "code",
   "execution_count": null,
   "id": "6ce9a10c-4a59-47d1-9572-3bad785400d9",
   "metadata": {},
   "outputs": [],
   "source": [
    "df_ghc.status.value_counts()"
   ]
  },
  {
   "cell_type": "code",
   "execution_count": null,
   "id": "0793b73b-f320-4dfe-9ed4-44276db2dc63",
   "metadata": {},
   "outputs": [],
   "source": [
    "def up(status):\n",
    "    if status == True:\n",
    "        return 1\n",
    "    return 0\n",
    "df_ghc['up'] = df_ghc.status.apply(up)"
   ]
  },
  {
   "cell_type": "code",
   "execution_count": null,
   "id": "50c9dc88-a94f-4237-b378-411f72b1a40a",
   "metadata": {},
   "outputs": [],
   "source": [
    "df_ghc.hvplot.line(x='checked_datetime', y='up')"
   ]
  }
 ],
 "metadata": {
  "kernelspec": {
   "display_name": "Python 3",
   "language": "python",
   "name": "python3"
  },
  "language_info": {
   "codemirror_mode": {
    "name": "ipython",
    "version": 3
   },
   "file_extension": ".py",
   "mimetype": "text/x-python",
   "name": "python",
   "nbconvert_exporter": "python",
   "pygments_lexer": "ipython3",
   "version": "3.9.2"
  }
 },
 "nbformat": 4,
 "nbformat_minor": 5
}
