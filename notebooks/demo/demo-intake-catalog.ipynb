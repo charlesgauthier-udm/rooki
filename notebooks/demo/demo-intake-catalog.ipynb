{
 "cells": [
  {
   "cell_type": "markdown",
   "id": "undefined-december",
   "metadata": {},
   "source": [
    "# Demo for using C3S intake catalog\n",
    "\n",
    "Intake Example:\n",
    "https://github.com/intake/intake-examples/blob/master/tutorial/data_scientist.ipynb\n"
   ]
  },
  {
   "cell_type": "code",
   "execution_count": null,
   "id": "perceived-danger",
   "metadata": {},
   "outputs": [],
   "source": [
    "import intake"
   ]
  },
  {
   "cell_type": "markdown",
   "id": "floating-spare",
   "metadata": {},
   "source": [
    "## Open remote catalog"
   ]
  },
  {
   "cell_type": "code",
   "execution_count": null,
   "id": "genetic-inflation",
   "metadata": {},
   "outputs": [],
   "source": [
    "cat = intake.open_catalog(\"https://raw.githubusercontent.com/cehbrecht/c3s_34g_manifests/intake/intake/catalogs/c3s.yaml\")\n"
   ]
  },
  {
   "cell_type": "code",
   "execution_count": null,
   "id": "unsigned-wyoming",
   "metadata": {},
   "outputs": [],
   "source": [
    "list(cat)"
   ]
  },
  {
   "cell_type": "code",
   "execution_count": null,
   "id": "cultural-church",
   "metadata": {},
   "outputs": [],
   "source": [
    "print(cat['c3s-cmip6'])"
   ]
  },
  {
   "cell_type": "markdown",
   "id": "excess-decrease",
   "metadata": {},
   "source": [
    "## Load catalog for c3s-cmip6\n",
    "Catalogs will be cached locally in `~/.intake/cache`.\n",
    "\n",
    "See: https://intake.readthedocs.io/en/latest/catalog.html?highlight=simplecache#caching-source-files-locally"
   ]
  },
  {
   "cell_type": "code",
   "execution_count": null,
   "id": "cardiac-level",
   "metadata": {},
   "outputs": [],
   "source": [
    "df = cat['c3s-cmip6'].read()"
   ]
  },
  {
   "cell_type": "markdown",
   "id": "economic-color",
   "metadata": {},
   "source": [
    "## Show first datasets"
   ]
  },
  {
   "cell_type": "code",
   "execution_count": null,
   "id": "interim-chassis",
   "metadata": {},
   "outputs": [],
   "source": [
    "df.head()"
   ]
  },
  {
   "cell_type": "markdown",
   "id": "aware-paragraph",
   "metadata": {},
   "source": [
    "## Show number of datasets"
   ]
  },
  {
   "cell_type": "code",
   "execution_count": null,
   "id": "grand-toner",
   "metadata": {},
   "outputs": [],
   "source": [
    "df.ds_id.nunique()"
   ]
  },
  {
   "cell_type": "markdown",
   "id": "adverse-fashion",
   "metadata": {},
   "source": [
    "## Define a search function for dataset and time"
   ]
  },
  {
   "cell_type": "code",
   "execution_count": null,
   "id": "broken-registrar",
   "metadata": {},
   "outputs": [],
   "source": [
    "def search(df, collection, time=None):\n",
    "    # a common search we do in rook\n",
    "    start = end = None\n",
    "    if time:\n",
    "        if \"/\" in time:\n",
    "            start, end = time.split(\"/\")\n",
    "            start = start.strip()\n",
    "            end = end.strip()\n",
    "        else:\n",
    "            start = time.strip()\n",
    "    \n",
    "    start = start or \"1800-01-01\"\n",
    "    end = end or \"2500-12-31\"\n",
    "    \n",
    "    sdf = df.fillna({'start_time': '1000-01-01T12:00:00', 'end_time': '3000-12-31T12:00:00'})\n",
    "\n",
    "    result = sdf.loc[(sdf.ds_id == collection) & (sdf.end_time >= start) & (sdf.start_time <= end)]\n",
    "    return list(result.path.sort_values().to_dict().values())\n",
    "    "
   ]
  },
  {
   "cell_type": "markdown",
   "id": "close-strap",
   "metadata": {},
   "source": [
    "## Search for a dataset with time restrictions"
   ]
  },
  {
   "cell_type": "code",
   "execution_count": null,
   "id": "geographic-passing",
   "metadata": {},
   "outputs": [],
   "source": [
    "result = search(\n",
    "    df, \n",
    "    collection=\"c3s-cmip6.CMIP.SNU.SAM0-UNICON.historical.r1i1p1f1.day.pr.gn.v20190323\",\n",
    "    time=\"2000-01-01/2001-12-31\")\n",
    "result"
   ]
  },
  {
   "cell_type": "markdown",
   "id": "received-copyright",
   "metadata": {},
   "source": [
    "## Search for dataset with no time axis (fx, fixed fields)"
   ]
  },
  {
   "cell_type": "code",
   "execution_count": null,
   "id": "rational-concrete",
   "metadata": {},
   "outputs": [],
   "source": [
    "df.loc[df.table_id==\"fx\"].ds_id"
   ]
  },
  {
   "cell_type": "code",
   "execution_count": null,
   "id": "inside-mediterranean",
   "metadata": {},
   "outputs": [],
   "source": [
    "collection = df.iloc[29].ds_id\n",
    "collection"
   ]
  },
  {
   "cell_type": "code",
   "execution_count": null,
   "id": "authorized-spectacular",
   "metadata": {},
   "outputs": [],
   "source": [
    "result = search(df, collection=collection, time=\"2000-01-01/2010-12-31\")\n",
    "result"
   ]
  },
  {
   "cell_type": "markdown",
   "id": "important-machine",
   "metadata": {},
   "source": [
    "## Other searches ..."
   ]
  },
  {
   "cell_type": "code",
   "execution_count": null,
   "id": "considerable-antenna",
   "metadata": {},
   "outputs": [],
   "source": [
    "result = df.loc[\n",
    "    (df.variable_id==\"tas\") \n",
    "    & (df.experiment_id==\"historical\")\n",
    "    & (df.table_id==\"day\")\n",
    "    & (df.member_id==\"r1i1p1f1\")\n",
    "    & (df.institution_id==\"MIROC\")\n",
    "]\n",
    "result.head()"
   ]
  },
  {
   "cell_type": "code",
   "execution_count": null,
   "id": "ruled-creator",
   "metadata": {},
   "outputs": [],
   "source": [
    "result.ds_id.unique()"
   ]
  }
 ],
 "metadata": {
  "kernelspec": {
   "display_name": "Python 3",
   "language": "python",
   "name": "python3"
  },
  "language_info": {
   "codemirror_mode": {
    "name": "ipython",
    "version": 3
   },
   "file_extension": ".py",
   "mimetype": "text/x-python",
   "name": "python",
   "nbconvert_exporter": "python",
   "pygments_lexer": "ipython3",
   "version": "3.9.2"
  }
 },
 "nbformat": 4,
 "nbformat_minor": 5
}
