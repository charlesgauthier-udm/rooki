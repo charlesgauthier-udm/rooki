{
 "cells": [
  {
   "cell_type": "code",
   "execution_count": 1,
   "id": "f03136b3-e241-45ca-b480-798e230fe071",
   "metadata": {},
   "outputs": [],
   "source": [
    "from rooki.client import Rooki"
   ]
  },
  {
   "cell_type": "code",
   "execution_count": 2,
   "id": "eb13c1a9-8506-41b7-a962-4cb1c22751a8",
   "metadata": {},
   "outputs": [
    {
     "name": "stdout",
     "output_type": "stream",
     "text": [
      "http://rook4.cloud.dkrz.de:80/outputs/rook/cb4c62f2-e560-11eb-abf2-fa163e1098db/dashboard.html\n"
     ]
    }
   ],
   "source": [
    "rooki = Rooki(\"http://rook.dkrz.de/wps\", mode='sync')\n",
    "resp = rooki.dashboard(site=\"dkrz\", time=\"2021-06-01/\")\n",
    "url = resp.response.processOutputs[0].reference\n",
    "print(url)"
   ]
  }
 ],
 "metadata": {
  "kernelspec": {
   "display_name": "Python 3 (ipykernel)",
   "language": "python",
   "name": "python3"
  },
  "language_info": {
   "codemirror_mode": {
    "name": "ipython",
    "version": 3
   },
   "file_extension": ".py",
   "mimetype": "text/x-python",
   "name": "python",
   "nbconvert_exporter": "python",
   "pygments_lexer": "ipython3",
   "version": "3.9.6"
  }
 },
 "nbformat": 4,
 "nbformat_minor": 5
}
