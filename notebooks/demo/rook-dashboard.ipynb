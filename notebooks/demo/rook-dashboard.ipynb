{
 "cells": [
  {
   "cell_type": "code",
   "execution_count": 1,
   "id": "f03136b3-e241-45ca-b480-798e230fe071",
   "metadata": {},
   "outputs": [],
   "source": [
    "from rooki.client import Rooki"
   ]
  },
  {
   "cell_type": "code",
   "execution_count": 2,
   "id": "eb13c1a9-8506-41b7-a962-4cb1c22751a8",
   "metadata": {},
   "outputs": [
    {
     "data": {
      "text/plain": [
       "'http://rook4.cloud.dkrz.de:80/outputs/rook/21684d90-d5a3-11eb-a210-fa163e1098db/dashboard.html'"
      ]
     },
     "execution_count": 2,
     "metadata": {},
     "output_type": "execute_result"
    }
   ],
   "source": [
    "rooki = Rooki(\"http://rook.dkrz.de/wps\", mode='sync')\n",
    "resp = rooki.dashboard(site=\"all\", time=\"2021-06-01/2021-07-01\")\n",
    "url = resp.response.processOutputs[0].reference\n",
    "url"
   ]
  }
 ],
 "metadata": {
  "kernelspec": {
   "display_name": "Python 3",
   "language": "python",
   "name": "python3"
  },
  "language_info": {
   "codemirror_mode": {
    "name": "ipython",
    "version": 3
   },
   "file_extension": ".py",
   "mimetype": "text/x-python",
   "name": "python",
   "nbconvert_exporter": "python",
   "pygments_lexer": "ipython3",
   "version": "3.9.5"
  }
 },
 "nbformat": 4,
 "nbformat_minor": 5
}
