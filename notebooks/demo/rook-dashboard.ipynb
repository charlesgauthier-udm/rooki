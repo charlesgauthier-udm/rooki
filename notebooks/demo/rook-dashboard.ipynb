{
 "cells": [
  {
   "cell_type": "code",
   "execution_count": null,
   "id": "f03136b3-e241-45ca-b480-798e230fe071",
   "metadata": {},
   "outputs": [],
   "source": [
    "from rooki.client import Rooki"
   ]
  },
  {
   "cell_type": "code",
   "execution_count": null,
   "id": "eb13c1a9-8506-41b7-a962-4cb1c22751a8",
   "metadata": {},
   "outputs": [],
   "source": [
    "def dashboard(site, time, use_cache=True):\n",
    "    url = \"http://rook4.cloud.dkrz.de:80/outputs/rook/7375f5ec-bedd-11eb-9d48-fa163e1098db/dashboard.html\"\n",
    "    if not use_cache:\n",
    "        rooki = Rooki(\"http://rook.dkrz.de/wps\", mode='sync')\n",
    "        resp = rooki.dashboard(site=\"all\", time=time)\n",
    "        url = resp.response.processOutputs[0].reference\n",
    "        print(url)\n",
    "    return url"
   ]
  },
  {
   "cell_type": "code",
   "execution_count": null,
   "id": "3df8b5fe-0235-44a0-b95b-6bbbdcf67f89",
   "metadata": {},
   "outputs": [],
   "source": [
    "dashboard_url = dashboard(site=\"all\", time=\"2021-03-23/\", use_cache=True)\n",
    "dashboard_url"
   ]
  },
  {
   "cell_type": "code",
   "execution_count": null,
   "id": "41b7f384-ada0-4dfa-b908-ae9ccdea6396",
   "metadata": {},
   "outputs": [],
   "source": [
    "from IPython.display import IFrame\n",
    "IFrame(src=dashboard_url, width=1200, height=3000)"
   ]
  }
 ],
 "metadata": {
  "kernelspec": {
   "display_name": "Python 3",
   "language": "python",
   "name": "python3"
  },
  "language_info": {
   "codemirror_mode": {
    "name": "ipython",
    "version": 3
   },
   "file_extension": ".py",
   "mimetype": "text/x-python",
   "name": "python",
   "nbconvert_exporter": "python",
   "pygments_lexer": "ipython3",
   "version": "3.9.2"
  }
 },
 "nbformat": 4,
 "nbformat_minor": 5
}
