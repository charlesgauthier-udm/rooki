{
 "cells": [
  {
   "cell_type": "code",
   "execution_count": null,
   "id": "f03136b3-e241-45ca-b480-798e230fe071",
   "metadata": {},
   "outputs": [],
   "source": [
    "from rooki.client import Rooki"
   ]
  },
  {
   "cell_type": "code",
   "execution_count": null,
   "id": "eb13c1a9-8506-41b7-a962-4cb1c22751a8",
   "metadata": {},
   "outputs": [],
   "source": [
    "rooki = Rooki(\"http://rook.dkrz.de/wps\", mode='async')\n",
    "resp = rooki.dashboard(site=\"all\", time=\"2023-01-01/\")\n",
    "url = resp.response.processOutputs[0].reference\n",
    "print(url)"
   ]
  }
 ],
 "metadata": {
  "kernelspec": {
   "display_name": "Python 3 (ipykernel)",
   "language": "python",
   "name": "python3"
  },
  "language_info": {
   "codemirror_mode": {
    "name": "ipython",
    "version": 3
   },
   "file_extension": ".py",
   "mimetype": "text/x-python",
   "name": "python",
   "nbconvert_exporter": "python",
   "pygments_lexer": "ipython3",
   "version": "3.11.3"
  }
 },
 "nbformat": 4,
 "nbformat_minor": 5
}
